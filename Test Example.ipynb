{
 "cells": [
  {
   "cell_type": "code",
   "execution_count": null,
   "metadata": {},
   "outputs": [],
   "source": [
    "import cv2\n",
    "import numpy as np\n",
    "import copy\n",
    "from ctypes import *\n",
    "import matplotlib.pyplot as plt\n",
    "\n",
    "import numpy.ctypeslib as npct"
   ]
  },
  {
   "cell_type": "code",
   "execution_count": null,
   "metadata": {},
   "outputs": [],
   "source": [
    "lib_path1 = '/media/sf_evezzali/OneDrive - Unimore/Gitlab/Barcode-Localization-Benchmark/Creusot2016/build/libLCEBDFTB.so'\n",
    "lib_path2 = '/media/sf_evezzali/OneDrive - Unimore/Gitlab/Barcode-Localization-Benchmark/Gallo2011-Soros2013-Yun2017/src/Linux/tencon/build/libBarcodeLocalization.so'\n",
    "lib_path3 = '/media/sf_evezzali/OneDrive - Unimore/Gitlab/Barcode-Localization-Benchmark/Zamberletti2013/build/libBarcodeLibrary.so'\n",
    "lib_path4 = '/media/sf_evezzali/OneDrive - Unimore/Gitlab/Barcode-Localization-Benchmark/Tekin2012/build/libblade.so'"
   ]
  },
  {
   "cell_type": "code",
   "execution_count": null,
   "metadata": {},
   "outputs": [],
   "source": [
    "lib1 = cdll.LoadLibrary(lib_path1)\n",
    "lib2 = cdll.LoadLibrary(lib_path2)\n",
    "lib3 = cdll.LoadLibrary(lib_path3)\n",
    "lib4 = cdll.LoadLibrary(lib_path4)"
   ]
  },
  {
   "cell_type": "code",
   "execution_count": null,
   "metadata": {},
   "outputs": [],
   "source": [
    "#img = cv2.imread('../../PhD Resources/Datasets/Artelab 1D barcodes/Dataset1/05102009101.jpg')\n",
    "img = cv2.imread('../../PhD Resources/Datasets/Artelab 1D barcodes/Dataset1/05102009081.jpg')\n",
    "#img = cv2.imread('../../PhD Resources/Datasets/Artelab 1D barcodes/Dataset1/05102009190.jpg')\n",
    "#img = cv2.imread('../../PhD Resources/Datasets/barcode_bb/multi_bb/multi_bb/multi_img/20200916_220016.jpg')"
   ]
  },
  {
   "cell_type": "markdown",
   "metadata": {},
   "source": [
    "# Set if the image should be resized to a target size"
   ]
  },
  {
   "cell_type": "code",
   "execution_count": null,
   "metadata": {},
   "outputs": [],
   "source": [
    "resize_image = True\n",
    "target_W = 640\n",
    "target_H = 480"
   ]
  },
  {
   "cell_type": "code",
   "execution_count": null,
   "metadata": {},
   "outputs": [],
   "source": [
    "if resize_image:\n",
    "    img = cv2.resize(img, (target_W, target_H))\n",
    "    \n",
    "plt.imshow(img)"
   ]
  },
  {
   "cell_type": "markdown",
   "metadata": {},
   "source": [
    "# Gallo 2011"
   ]
  },
  {
   "cell_type": "markdown",
   "metadata": {},
   "source": [
    "### Reading 1D Barcodes with Mobile Phones Using Deformable Templates "
   ]
  },
  {
   "cell_type": "code",
   "execution_count": null,
   "metadata": {},
   "outputs": [],
   "source": [
    "h, w, _ = img.shape\n",
    "h,w = c_short(h), c_short(w)\n",
    "input_img = img.ctypes.data_as(POINTER(c_uint8))\n",
    "result = (c_int*8)()\n",
    "\n",
    "lib2.galloProcess(result, input_img, h,w, c_int(20));"
   ]
  },
  {
   "cell_type": "code",
   "execution_count": null,
   "metadata": {},
   "outputs": [],
   "source": [
    "isClosed = True\n",
    "color = (255, 0, 0)\n",
    "thickness = 2\n",
    "image = copy.deepcopy(img)\n",
    "\n",
    "pts = np.array(result)[:8].reshape((4, 1, 2))\n",
    "image = cv2.polylines(image, [pts], isClosed, color, thickness)\n",
    "    \n",
    "plt.imshow(image)"
   ]
  },
  {
   "cell_type": "markdown",
   "metadata": {},
   "source": [
    "# Tekin 2012"
   ]
  },
  {
   "cell_type": "markdown",
   "metadata": {},
   "source": [
    "### BLaDE: Barcode Localization and Decoding Engine "
   ]
  },
  {
   "cell_type": "code",
   "execution_count": null,
   "metadata": {},
   "outputs": [],
   "source": [
    "h, w,_ = img.shape\n",
    "h,w = c_short(h), c_short(w)\n",
    "input_img = img.ctypes.data_as(POINTER(c_uint8))\n",
    "\n",
    "result = (c_int*(500*4))()\n",
    "num_results = (c_int*1)()\n",
    "\n",
    "lib4.locateBarcodes(result, num_results, input_img, h,w);"
   ]
  },
  {
   "cell_type": "code",
   "execution_count": null,
   "metadata": {},
   "outputs": [],
   "source": [
    "isClosed = True\n",
    "color = (255, 0, 0)\n",
    "thickness = 2\n",
    "image = copy.deepcopy(img)\n",
    "\n",
    "pts = np.array(result)[:num_results[0]*4].reshape((-1, 2))\n",
    "for i in range(len(pts)//2):\n",
    "    image = cv2.line(image,pts[i*2],pts[i*2+1],color,thickness)\n",
    "#image = cv2.polylines(image, pts, isClosed, color, thickness)\n",
    "    \n",
    "plt.imshow(image)"
   ]
  },
  {
   "cell_type": "markdown",
   "metadata": {},
   "source": [
    "# Soros 2013"
   ]
  },
  {
   "cell_type": "markdown",
   "metadata": {},
   "source": [
    "### Blur-resistant joint 1D and 2D barcode localization for smartphones"
   ]
  },
  {
   "cell_type": "code",
   "execution_count": null,
   "metadata": {},
   "outputs": [],
   "source": [
    "h, w, _ = img.shape\n",
    "h,w = c_short(h), c_short(w)\n",
    "input_img = img.ctypes.data_as(POINTER(c_uint8))\n",
    "result = (c_int*8)()\n",
    "\n",
    "lib2.sorosProcess(result, input_img, h,w, c_int(20));"
   ]
  },
  {
   "cell_type": "code",
   "execution_count": null,
   "metadata": {},
   "outputs": [],
   "source": [
    "isClosed = True\n",
    "color = (255, 0, 0)\n",
    "thickness = 2\n",
    "image = copy.deepcopy(img)\n",
    "\n",
    "pts = np.array(result)[:8].reshape((4, 1, 2))\n",
    "image = cv2.polylines(image, [pts], isClosed, color, thickness)\n",
    "    \n",
    "plt.imshow(image)"
   ]
  },
  {
   "cell_type": "markdown",
   "metadata": {},
   "source": [
    "# Zamberletti 2013"
   ]
  },
  {
   "cell_type": "markdown",
   "metadata": {},
   "source": [
    "### Robust Angle Invariant 1D Barcode Detection "
   ]
  },
  {
   "cell_type": "code",
   "execution_count": null,
   "metadata": {},
   "outputs": [],
   "source": [
    "h, w, _ = img.shape\n",
    "h,w = c_short(h), c_short(w)\n",
    "input_img = img.ctypes.data_as(POINTER(c_uint8))\n",
    "\n",
    "result = (c_int*(100*8))()\n",
    "num_results = (c_int*1)()\n",
    "angle = (c_double*1)()\n",
    "\n",
    "lib3.initialize('./Zamberletti2013/net61x3.net'.encode('utf-8'))\n",
    "lib3.locateBarcode(result, angle, num_results, input_img, h,w);"
   ]
  },
  {
   "cell_type": "code",
   "execution_count": null,
   "metadata": {},
   "outputs": [],
   "source": [
    "isClosed = True\n",
    "color = (255, 0, 0)\n",
    "thickness = 2\n",
    "image = copy.deepcopy(img)\n",
    "\n",
    "pts = np.array(result)[:num_results[0]*8].reshape((-1,4,2))\n",
    "for i in range(len(pts)):\n",
    "    center = np.mean(pts[i], axis=0)\n",
    "    M = cv2.getRotationMatrix2D(center, -angle[0], 1.0)\n",
    "    pts[i] = np.matmul(pts[i], M[:,:2].T)+M[:,2]\n",
    "    \n",
    "image = cv2.polylines(image, pts[:,:,np.newaxis,:], isClosed, color, thickness)\n",
    "    \n",
    "plt.imshow(image)"
   ]
  },
  {
   "cell_type": "markdown",
   "metadata": {},
   "source": [
    "# Creusot 2016"
   ]
  },
  {
   "cell_type": "markdown",
   "metadata": {},
   "source": [
    "### Low-Computation Egocentric Barcode Detector for the Blind "
   ]
  },
  {
   "cell_type": "code",
   "execution_count": null,
   "metadata": {},
   "outputs": [],
   "source": [
    "h, w, _ = img.shape\n",
    "h,w = c_short(h), c_short(w)\n",
    "input_img = img.ctypes.data_as(POINTER(c_uint8))\n",
    "\n",
    "minLineLength = c_int(20)\n",
    "support_candidates_threshold = c_int(10)\n",
    "delta = c_int(5)\n",
    "maxLengthToLineLengthRatio = c_int(30)\n",
    "minLengthToLineLengthRatio = c_int(1)\n",
    "inSegmentXDistance = c_int(3)\n",
    "inSegmentYDistance = c_int(3)\n",
    "\n",
    "result = (c_int*10000)()\n",
    "num_results = (c_int*1)()\n",
    "\n",
    "lib1.locateBarcode(result, num_results, input_img, h,w, minLineLength,\n",
    "                 support_candidates_threshold,\n",
    "                 delta, maxLengthToLineLengthRatio, minLengthToLineLengthRatio,\n",
    "                 inSegmentXDistance, inSegmentYDistance);"
   ]
  },
  {
   "cell_type": "code",
   "execution_count": null,
   "metadata": {},
   "outputs": [],
   "source": [
    "isClosed = True\n",
    "color = (255, 0, 0)\n",
    "thickness = 2\n",
    "image = copy.deepcopy(img)\n",
    "\n",
    "pts = np.array(result)[:num_results[0]*8].reshape((-1,4, 1, 2))\n",
    "image = cv2.polylines(image, pts, isClosed, color, thickness)\n",
    "    \n",
    "plt.imshow(image)"
   ]
  },
  {
   "cell_type": "markdown",
   "metadata": {},
   "source": [
    "# Yun 2017"
   ]
  },
  {
   "cell_type": "markdown",
   "metadata": {},
   "source": [
    "### Vision-Based 1D Barcode Localization Method for Scale and Rotation Invariant "
   ]
  },
  {
   "cell_type": "code",
   "execution_count": null,
   "metadata": {},
   "outputs": [],
   "source": [
    "h, w, _ = img.shape\n",
    "h,w = c_short(h), c_short(w)\n",
    "input_img = img.ctypes.data_as(POINTER(c_uint8))\n",
    "result = (c_int*100*8)()\n",
    "num_results = (c_int*1)()\n",
    "\n",
    "lib2.yunProcess(result, num_results, input_img, h,w);"
   ]
  },
  {
   "cell_type": "code",
   "execution_count": null,
   "metadata": {},
   "outputs": [],
   "source": [
    "isClosed = True\n",
    "color = (255, 0, 0)\n",
    "thickness = 2\n",
    "image = copy.deepcopy(img)\n",
    "\n",
    "pts = np.array(result)[:num_results[0]*8].reshape((-1,4, 1, 2))\n",
    "\n",
    "\n",
    "image = cv2.polylines(image, pts, isClosed, color, thickness)\n",
    "    \n",
    "plt.imshow(image)"
   ]
  }
 ],
 "metadata": {
  "kernelspec": {
   "display_name": "Python 3",
   "language": "python",
   "name": "python3"
  },
  "language_info": {
   "codemirror_mode": {
    "name": "ipython",
    "version": 3
   },
   "file_extension": ".py",
   "mimetype": "text/x-python",
   "name": "python",
   "nbconvert_exporter": "python",
   "pygments_lexer": "ipython3",
   "version": "3.7.11"
  }
 },
 "nbformat": 4,
 "nbformat_minor": 4
}
