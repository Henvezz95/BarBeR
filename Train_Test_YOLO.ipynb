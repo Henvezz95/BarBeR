{
 "cells": [
  {
   "cell_type": "code",
   "execution_count": null,
   "metadata": {},
   "outputs": [],
   "source": [
    "import os\n",
    "import cv2\n",
    "import datetime\n",
    "import json\n",
    "import torch\n",
    "import copy\n",
    "import shutil\n",
    "import ultralytics\n",
    "from glob import glob\n",
    "import re\n",
    "import hashlib\n",
    "from tqdm import tqdm\n",
    "import numpy as np\n",
    "import matplotlib.pyplot as plt\n",
    "import math\n",
    "from ultralytics import YOLO\n",
    "\n",
    "base_path = '/home/dl.net/evezzali/Gitlab/Barcode-Localization-Benchmark/dataset/'"
   ]
  },
  {
   "cell_type": "code",
   "execution_count": null,
   "metadata": {},
   "outputs": [],
   "source": [
    "train_val_test_split = [0.6, 0.1, 0.3]\n",
    "\n",
    "train_val_test_split = np.array(train_val_test_split)/np.sum(train_val_test_split)\n",
    "th1 = train_val_test_split[0]\n",
    "th2 = th1+train_val_test_split[1]\n",
    "\n",
    "train_files = []\n",
    "val_files = []\n",
    "test_files = []\n",
    "img_paths = glob(f'{base_path}images/*.jpg')\n",
    "img_paths.extend(glob(f'{base_path}images/*.JPG'))\n",
    "img_paths = list(set(img_paths))\n",
    "\n",
    "for img_path in img_paths:\n",
    "    file_name = os.path.basename(img_path)\n",
    "    hash_code = int(hashlib.sha256(file_name.encode('utf-8')).hexdigest(), 16) % 10 ** 4\n",
    "    if hash_code < th1 * (10 ** 4):\n",
    "        train_files.append(img_path)\n",
    "    elif hash_code < th2 * (10 ** 4):\n",
    "        val_files.append(img_path) \n",
    "    else:\n",
    "        test_files.append(img_path)\n",
    "print(len(train_files), len(val_files), len(test_files))"
   ]
  },
  {
   "cell_type": "code",
   "execution_count": null,
   "metadata": {},
   "outputs": [],
   "source": [
    "glob(f'{base_path}/*.txt')"
   ]
  },
  {
   "cell_type": "code",
   "execution_count": null,
   "metadata": {},
   "outputs": [],
   "source": [
    "#Generate txt files\n",
    "string = \"\"\n",
    "\n",
    "for img_path in train_files:\n",
    "    file_name = os.path.basename(img_path)\n",
    "    string = f'{string}{base_path}images/{file_name}' + '\\n'\n",
    "\n",
    "with open(f'{base_path}train.txt', 'w') as f:\n",
    "    f.write(string)\n",
    "\n",
    "string = \"\"\n",
    "\n",
    "for img_path in test_files:\n",
    "    file_name = os.path.basename(img_path)\n",
    "    string = f'{string}{base_path}images/{file_name}' + '\\n'\n",
    "\n",
    "with open(f'{base_path}test.txt', 'w') as f:\n",
    "    f.write(string)\n",
    "\n",
    "string = \"\"\n",
    "\n",
    "for img_path in val_files:\n",
    "    file_name = os.path.basename(img_path)\n",
    "    string = f'{string}{base_path}images/{file_name}' + '\\n'\n",
    "\n",
    "with open(f'{base_path}val.txt', 'w') as f:\n",
    "    f.write(string)\n",
    "\n"
   ]
  },
  {
   "cell_type": "code",
   "execution_count": null,
   "metadata": {},
   "outputs": [],
   "source": [
    "torch.cuda.is_available()"
   ]
  },
  {
   "cell_type": "code",
   "execution_count": null,
   "metadata": {},
   "outputs": [],
   "source": [
    "device = torch.device('cuda:1')"
   ]
  },
  {
   "cell_type": "code",
   "execution_count": null,
   "metadata": {},
   "outputs": [],
   "source": [
    "model = YOLO(\"yolov8m.pt\")  # load a pretrained model (recommended for training)\n",
    "model.to(device);"
   ]
  },
  {
   "cell_type": "code",
   "execution_count": null,
   "metadata": {},
   "outputs": [],
   "source": [
    "model.train(data=f'{base_path}data.yaml', epochs=200, imgsz=480, patience=10)"
   ]
  },
  {
   "cell_type": "code",
   "execution_count": null,
   "metadata": {},
   "outputs": [],
   "source": [
    "import shutil\n",
    "model.export(format='onnx')\n",
    "shutil.move('/home/dl.net/evezzali/runs/detect/train35/weights/best.onnx', './Saved Models/yolov8m_480_2cl.onnx')"
   ]
  },
  {
   "cell_type": "code",
   "execution_count": null,
   "metadata": {},
   "outputs": [],
   "source": [
    "model = YOLO('./Saved Models/yolov8s_trained.onnx', task='detect')"
   ]
  },
  {
   "cell_type": "code",
   "execution_count": null,
   "metadata": {},
   "outputs": [],
   "source": [
    "file_path = f'{base_path}/yolo_dataset/images/Special_0099.jpg'\n",
    "result = model(file_path)"
   ]
  },
  {
   "cell_type": "code",
   "execution_count": null,
   "metadata": {},
   "outputs": [],
   "source": [
    "%matplotlib inline\n",
    "img = cv2.imread(file_path)\n",
    "H, W, _ = img.shape\n",
    "for bbox in result[0].boxes.data.cpu().numpy():\n",
    "    x0, y0, x1, y1, conf, pred = bbox\n",
    "    if int(np.round(pred)) == 0:\n",
    "        cv2.rectangle(img, pt1=(int(x0), int(y0)), pt2=(int(x1), int(y1)), color=(0,0,255), thickness=int((H+W)/500))\n",
    "    else:\n",
    "        cv2.rectangle(img, pt1=(int(x0), int(y0)), pt2=(int(x1), int(y1)), color=(255,0,0), thickness=int((H+W)/500))\n",
    "\n",
    "plt.imshow(img[:,:,::-1])\n",
    "plt.show()\n"
   ]
  },
  {
   "cell_type": "code",
   "execution_count": null,
   "metadata": {},
   "outputs": [],
   "source": [
    "device = torch.device('cuda:1')\n",
    "model = YOLO(\"./yolo.yaml\");\n",
    "model.to(device);"
   ]
  },
  {
   "cell_type": "code",
   "execution_count": null,
   "metadata": {},
   "outputs": [],
   "source": [
    "model.train(data=\"coco.yaml\", epochs=200, imgsz=640, patience=10)"
   ]
  },
  {
   "cell_type": "code",
   "execution_count": null,
   "metadata": {},
   "outputs": [],
   "source": []
  }
 ],
 "metadata": {
  "kernelspec": {
   "display_name": "Python 3",
   "language": "python",
   "name": "python3"
  },
  "language_info": {
   "codemirror_mode": {
    "name": "ipython",
    "version": 3
   },
   "file_extension": ".py",
   "mimetype": "text/x-python",
   "name": "python",
   "nbconvert_exporter": "python",
   "pygments_lexer": "ipython3",
   "version": "3.10.12"
  }
 },
 "nbformat": 4,
 "nbformat_minor": 2
}
